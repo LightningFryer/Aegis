{
  "nbformat": 4,
  "nbformat_minor": 0,
  "metadata": {
    "colab": {
      "provenance": [],
      "gpuType": "T4",
      "authorship_tag": "ABX9TyPMXI06Pbc++Ldd+t//K7Fe",
      "include_colab_link": true
    },
    "kernelspec": {
      "name": "python3",
      "display_name": "Python 3"
    },
    "language_info": {
      "name": "python"
    },
    "accelerator": "GPU"
  },
  "cells": [
    {
      "cell_type": "markdown",
      "metadata": {
        "id": "view-in-github",
        "colab_type": "text"
      },
      "source": [
        "<a href=\"https://colab.research.google.com/github/LightningFryer/Aegis/blob/main/AI_Project.ipynb\" target=\"_parent\"><img src=\"https://colab.research.google.com/assets/colab-badge.svg\" alt=\"Open In Colab\"/></a>"
      ]
    },
    {
      "cell_type": "code",
      "execution_count": 1,
      "metadata": {
        "colab": {
          "base_uri": "https://localhost:8080/"
        },
        "id": "jcpO6h-_nL9J",
        "outputId": "4c82f315-07a5-4a5f-ebdd-9c61c0424b49"
      },
      "outputs": [
        {
          "output_type": "stream",
          "name": "stdout",
          "text": [
            "Using Colab cache for faster access to the 'deepglobe-road-extraction-dataset' dataset.\n",
            "Path to dataset files: /kaggle/input/deepglobe-road-extraction-dataset\n"
          ]
        }
      ],
      "source": [
        "import kagglehub\n",
        "import os\n",
        "os.environ['KAGGLEHUB_CACHE'] = \"/kaggle/\"\n",
        "# Download latest version\n",
        "path = kagglehub.dataset_download(\"balraj98/deepglobe-road-extraction-dataset\")\n",
        "\n",
        "print(\"Path to dataset files:\", path)"
      ]
    },
    {
      "cell_type": "code",
      "source": [
        "import os, cv2, time\n",
        "import numpy as np\n",
        "import torch\n",
        "import torch.nn as nn\n",
        "import torch.optim as optim\n",
        "from torch.utils.data import Dataset, DataLoader\n",
        "from torchvision import transforms\n",
        "from torchvision.utils import save_image\n",
        "from tqdm import tqdm\n",
        "import matplotlib.pyplot as plt"
      ],
      "metadata": {
        "id": "nhYN-BdWnmxU"
      },
      "execution_count": 2,
      "outputs": []
    },
    {
      "cell_type": "code",
      "source": [
        "class RoadDatasetTrain(Dataset):\n",
        "    def __init__(self, root_dir):\n",
        "        self.root_dir = root_dir\n",
        "        self.files = sorted([f for f in os.listdir(root_dir) if f.endswith(\"_sat.jpg\")])\n",
        "\n",
        "    def __len__(self):\n",
        "        return len(self.files)\n",
        "\n",
        "    def __getitem__(self, idx):\n",
        "        img_name = self.files[idx]\n",
        "        mask_name = img_name.replace(\"_sat.jpg\", \"_mask.png\")\n",
        "\n",
        "        img_path = os.path.join(self.root_dir, img_name)\n",
        "        mask_path = os.path.join(self.root_dir, mask_name)\n",
        "\n",
        "        image = cv2.cvtColor(cv2.imread(img_path), cv2.COLOR_BGR2RGB)\n",
        "        mask = cv2.imread(mask_path, cv2.IMREAD_GRAYSCALE)\n",
        "\n",
        "        # Resize to manageable size\n",
        "        image = cv2.resize(image, (512, 512))\n",
        "        mask = cv2.resize(mask, (512, 512))\n",
        "\n",
        "        # Binarize mask\n",
        "        mask = (mask > 128).astype(np.float32)\n",
        "\n",
        "        image = torch.tensor(image).permute(2, 0, 1).float() / 255.0\n",
        "        mask = torch.tensor(mask).unsqueeze(0)\n",
        "        return image, mask"
      ],
      "metadata": {
        "id": "f8M49fvd96Aa"
      },
      "execution_count": 3,
      "outputs": []
    },
    {
      "cell_type": "code",
      "source": [
        "def iou_score(pred, target, threshold=0.5):\n",
        "    pred_bin = (pred > threshold).float()\n",
        "    intersection = (pred_bin * target).sum()\n",
        "    union = pred_bin.sum() + target.sum() - intersection\n",
        "    return (intersection + 1e-6) / (union + 1e-6)\n"
      ],
      "metadata": {
        "id": "Gurgvv_f_Uwd"
      },
      "execution_count": 4,
      "outputs": []
    },
    {
      "cell_type": "code",
      "source": [
        "def train_model(model, train_loader, val_loader, device, epochs=10, lr=1e-4):\n",
        "    optimizer = optim.Adam(model.parameters(), lr=lr)\n",
        "    criterion = nn.BCELoss()\n",
        "    model.to(device)\n",
        "\n",
        "    for epoch in range(epochs):\n",
        "        model.train()\n",
        "        train_loss, train_iou = 0, 0\n",
        "        for imgs, masks in tqdm(train_loader, desc=f\"Epoch {epoch+1}/{epochs}\"):\n",
        "            imgs, masks = imgs.to(device), masks.to(device)\n",
        "            preds = model(imgs)\n",
        "            loss = criterion(preds, masks)\n",
        "            optimizer.zero_grad()\n",
        "            loss.backward()\n",
        "            optimizer.step()\n",
        "            train_loss += loss.item()\n",
        "            train_iou += iou_score(preds, masks).item()\n",
        "\n",
        "        model.eval()\n",
        "        val_loss, val_iou = 0, 0\n",
        "        with torch.no_grad():\n",
        "            for imgs, masks in val_loader:\n",
        "                imgs, masks = imgs.to(device), masks.to(device)\n",
        "                preds = model(imgs)\n",
        "                val_loss += criterion(preds, masks).item()\n",
        "                val_iou += iou_score(preds, masks).item()\n",
        "\n",
        "        print(f\"Epoch {epoch+1}: TrainLoss={train_loss/len(train_loader):.4f} ValLoss={val_loss/len(val_loader):.4f} ValIoU={val_iou/len(val_loader):.4f}\")\n",
        "        torch.save(model.state_dict(), f\"road_unet_epoch{epoch+1}.pth\")\n",
        "\n",
        "    print(\"✅ Training Complete!\")"
      ],
      "metadata": {
        "id": "eXAPBGZU-OnD"
      },
      "execution_count": 10,
      "outputs": []
    },
    {
      "cell_type": "code",
      "source": [
        "class RoadDatasetValid(Dataset):\n",
        "    def __init__(self, root_dir):\n",
        "        self.root_dir = root_dir\n",
        "        self.files = sorted([f for f in os.listdir(root_dir) if f.endswith(\"_sat.jpg\")])\n",
        "\n",
        "    def __len__(self):\n",
        "        return len(self.files)\n",
        "\n",
        "    def __getitem__(self, idx):\n",
        "        img_name = self.files[idx]\n",
        "        img_path = os.path.join(self.root_dir, img_name)\n",
        "        image = cv2.cvtColor(cv2.imread(img_path), cv2.COLOR_BGR2RGB)\n",
        "        image = cv2.resize(image, (512, 512))\n",
        "        image = torch.tensor(image).permute(2, 0, 1).float() / 255.0\n",
        "        return image, img_name"
      ],
      "metadata": {
        "id": "TW1-lRrG-s-Q"
      },
      "execution_count": 5,
      "outputs": []
    },
    {
      "cell_type": "code",
      "source": [
        "class DoubleConv(nn.Module):\n",
        "    def __init__(self, in_channels, out_channels):\n",
        "        super().__init__()\n",
        "        self.conv = nn.Sequential(\n",
        "            nn.Conv2d(in_channels, out_channels, 3, padding=1),\n",
        "            nn.BatchNorm2d(out_channels),\n",
        "            nn.ReLU(inplace=True),\n",
        "            nn.Conv2d(out_channels, out_channels, 3, padding=1),\n",
        "            nn.BatchNorm2d(out_channels),\n",
        "            nn.ReLU(inplace=True),\n",
        "        )\n",
        "\n",
        "    def forward(self, x):\n",
        "        return self.conv(x)"
      ],
      "metadata": {
        "id": "tmdLP8JX-uQS"
      },
      "execution_count": 6,
      "outputs": []
    },
    {
      "cell_type": "code",
      "source": [
        "class UNet(nn.Module):\n",
        "    def __init__(self, n_classes=1):\n",
        "        super().__init__()\n",
        "        self.d1 = DoubleConv(3, 64)\n",
        "        self.d2 = DoubleConv(64, 128)\n",
        "        self.d3 = DoubleConv(128, 256)\n",
        "        self.d4 = DoubleConv(256, 512)\n",
        "        self.pool = nn.MaxPool2d(2)\n",
        "        self.up3 = nn.ConvTranspose2d(512, 256, 2, 2)\n",
        "        self.u3 = DoubleConv(512, 256)\n",
        "        self.up2 = nn.ConvTranspose2d(256, 128, 2, 2)\n",
        "        self.u2 = DoubleConv(256, 128)\n",
        "        self.up1 = nn.ConvTranspose2d(128, 64, 2, 2)\n",
        "        self.u1 = DoubleConv(128, 64)\n",
        "        self.final = nn.Conv2d(64, n_classes, 1)\n",
        "\n",
        "    def forward(self, x):\n",
        "        c1 = self.d1(x)\n",
        "        c2 = self.d2(self.pool(c1))\n",
        "        c3 = self.d3(self.pool(c2))\n",
        "        c4 = self.d4(self.pool(c3))\n",
        "\n",
        "        u3 = self.up3(c4)\n",
        "        u3 = torch.cat([u3, c3], dim=1)\n",
        "        u3 = self.u3(u3)\n",
        "\n",
        "        u2 = self.up2(u3)\n",
        "        u2 = torch.cat([u2, c2], dim=1)\n",
        "        u2 = self.u2(u2)\n",
        "\n",
        "        u1 = self.up1(u2)\n",
        "        u1 = torch.cat([u1, c1], dim=1)\n",
        "        u1 = self.u1(u1)\n",
        "\n",
        "        return torch.sigmoid(self.final(u1))"
      ],
      "metadata": {
        "id": "bY21ed3Y-wWv"
      },
      "execution_count": 7,
      "outputs": []
    },
    {
      "cell_type": "code",
      "source": [
        "def train_model(model, train_loader, device, epochs=10, lr=1e-4):\n",
        "    criterion = nn.BCELoss()\n",
        "    optimizer = optim.Adam(model.parameters(), lr=lr)\n",
        "    model.to(device)\n",
        "\n",
        "    for epoch in range(epochs):\n",
        "        model.train()\n",
        "        total_loss = 0\n",
        "        for imgs, masks in tqdm(train_loader, desc=f\"Epoch {epoch+1}/{epochs}\"):\n",
        "            imgs, masks = imgs.to(device), masks.to(device)\n",
        "            preds = model(imgs)\n",
        "            loss = criterion(preds, masks)\n",
        "            optimizer.zero_grad()\n",
        "            loss.backward()\n",
        "            optimizer.step()\n",
        "            total_loss += loss.item()\n",
        "\n",
        "        print(f\"Epoch {epoch+1} — Loss: {total_loss/len(train_loader):.4f}\")\n",
        "        torch.save(model.state_dict(), f\"road_unet_epoch{epoch+1}.pth\")\n",
        "\n",
        "    print(\"✅ Training Complete!\")"
      ],
      "metadata": {
        "id": "pWjhLn66-zwt"
      },
      "execution_count": 14,
      "outputs": []
    },
    {
      "cell_type": "code",
      "source": [
        "def predict_and_save(model, valid_loader, device, output_dir=\"predictions\"):\n",
        "    os.makedirs(output_dir, exist_ok=True)\n",
        "    model.eval()\n",
        "    with torch.no_grad():\n",
        "        for imgs, names in tqdm(valid_loader, desc=\"Generating predictions\"):\n",
        "            imgs = imgs.to(device)\n",
        "            preds = model(imgs)\n",
        "            preds = (preds > 0.5).float().cpu().numpy()\n",
        "\n",
        "            for i in range(len(names)):\n",
        "                mask = (preds[i][0] * 255).astype(np.uint8)\n",
        "                cv2.imwrite(os.path.join(output_dir, names[i].replace(\"_sat.jpg\", \"_pred.png\")), mask)\n",
        "\n",
        "    print(f\"✅ Predictions saved in {output_dir}/\")"
      ],
      "metadata": {
        "id": "ooIKNIDQ-1xz"
      },
      "execution_count": 10,
      "outputs": []
    },
    {
      "cell_type": "code",
      "source": [
        "train_dir = \"/kaggle/input/deepglobe-road-extraction-dataset/train\"\n",
        "valid_dir = \"/kaggle/input/deepglobe-road-extraction-dataset/valid\"\n",
        "\n",
        "train_ds = RoadDatasetTrain(train_dir)\n",
        "valid_ds = RoadDatasetValid(valid_dir)\n",
        "\n",
        "train_loader = DataLoader(train_ds, batch_size=4, shuffle=True, num_workers=2)\n",
        "valid_loader = DataLoader(valid_ds, batch_size=2, shuffle=False)\n",
        "\n",
        "device = torch.device(\"cuda\" if torch.cuda.is_available() else \"cpu\")\n",
        "model = UNet()\n",
        "model.load_state_dict(torch.load(\"/road_unet_epoch5.pth\"))\n",
        "model.to(device)\n",
        "# Train only on training set\n",
        "# train_model(model, train_loader, device, epochs=5, lr=1e-4)\n",
        "\n",
        "# Generate binary masks for validation images\n",
        "predict_and_save(model, valid_loader, device)"
      ],
      "metadata": {
        "colab": {
          "base_uri": "https://localhost:8080/"
        },
        "id": "b-s6PF30-28E",
        "outputId": "bd1c1975-d7b7-4389-bd17-2a1cd09d1b3c"
      },
      "execution_count": 11,
      "outputs": [
        {
          "output_type": "stream",
          "name": "stderr",
          "text": [
            "Generating predictions: 100%|██████████| 622/622 [01:49<00:00,  5.69it/s]"
          ]
        },
        {
          "output_type": "stream",
          "name": "stdout",
          "text": [
            "✅ Predictions saved in predictions/\n"
          ]
        },
        {
          "output_type": "stream",
          "name": "stderr",
          "text": [
            "\n"
          ]
        }
      ]
    }
  ]
}